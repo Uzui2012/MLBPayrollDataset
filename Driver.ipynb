{
 "cells": [
  {
   "cell_type": "code",
   "execution_count": 1,
   "metadata": {},
   "outputs": [],
   "source": [
    "import pandas as pd\n",
    "import matplotlib as plt\n",
    "import sklearn"
   ]
  },
  {
   "cell_type": "code",
   "execution_count": null,
   "metadata": {},
   "outputs": [
    {
     "name": "stdout",
     "output_type": "stream",
     "text": [
      "<bound method DataFrame.info of     Team            Team Name  Year  Average Age Total Payroll Allocations  \\\n",
      "0    OAK    Oakland Athletics  2024         26.5               $62,132,581   \n",
      "1    PIT   Pittsburgh Pirates  2024         27.7               $84,050,989   \n",
      "2     TB       Tampa Bay Rays  2024         26.8               $89,707,422   \n",
      "3    DET       Detroit Tigers  2024         26.0               $96,961,614   \n",
      "4    CLE  Cleveland Guardians  2024         26.3              $105,224,582   \n",
      "..   ...                  ...   ...          ...                       ...   \n",
      "415  MIN      Minnesota Twins  2011         27.4              $114,445,627   \n",
      "416  NYM        New York Mets  2011         28.7              $142,245,841   \n",
      "417  BOS       Boston Red Sox  2011         28.9              $170,490,761   \n",
      "418  CHC         Chicago Cubs  2011         28.1              $137,666,584   \n",
      "419  NYY     New York Yankees  2011         29.5              $210,950,685   \n",
      "\n",
      "    Active 26-Man      Injured     Retained       Buried  Wins  Losses  \\\n",
      "0     $28,956,713  $15,581,092  $15,557,073   $1,763,221    69      93   \n",
      "1     $51,220,210  $14,524,211  $15,341,351   $2,965,217    76      86   \n",
      "2     $37,691,876  $13,179,262  $34,675,167   $1,706,572    80      82   \n",
      "3     $33,226,992  $26,677,166  $36,920,494   $1,070,295    86      76   \n",
      "4     $50,885,032  $21,120,833  $22,945,837  $10,272,880    92      69   \n",
      "..            ...          ...          ...          ...   ...     ...   \n",
      "415  $107,337,033            -   $7,108,594            -    63      99   \n",
      "416   $96,577,418            -  $45,668,423            -    77      85   \n",
      "417  $162,455,090            -   $8,239,278            -    90      72   \n",
      "418  $123,941,584            -  $13,725,000            -    71      91   \n",
      "419  $210,950,685            -            -            -    97      65   \n",
      "\n",
      "          Postseason  \n",
      "0        No Playoffs  \n",
      "1        No Playoffs  \n",
      "2        No Playoffs  \n",
      "3           Wildcard  \n",
      "4    Division Winner  \n",
      "..               ...  \n",
      "415      No Playoffs  \n",
      "416      No Playoffs  \n",
      "417      No Playoffs  \n",
      "418      No Playoffs  \n",
      "419  Division Winner  \n",
      "\n",
      "[420 rows x 12 columns]>\n"
     ]
    }
   ],
   "source": [
    "dataset = pd.read_csv('mlb_payrolls.csv')\n",
    "print(dataset.head())"
   ]
  }
 ],
 "metadata": {
  "kernelspec": {
   "display_name": "Python 3",
   "language": "python",
   "name": "python3"
  },
  "language_info": {
   "codemirror_mode": {
    "name": "ipython",
    "version": 3
   },
   "file_extension": ".py",
   "mimetype": "text/x-python",
   "name": "python",
   "nbconvert_exporter": "python",
   "pygments_lexer": "ipython3",
   "version": "3.12.2"
  }
 },
 "nbformat": 4,
 "nbformat_minor": 2
}
